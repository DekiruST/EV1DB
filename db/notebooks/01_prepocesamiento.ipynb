{
 "cells": [
  {
   "cell_type": "code",
   "execution_count": null,
   "id": "b5091120",
   "metadata": {
    "vscode": {
     "languageId": "plaintext"
    }
   },
   "outputs": [],
   "source": [
    "import pandas as pd\n",
    "import numpy as np\n",
    "import matplotlib.pyplot as plt"
   ]
  },
  {
   "cell_type": "code",
   "execution_count": null,
   "id": "ec49b067",
   "metadata": {
    "vscode": {
     "languageId": "plaintext"
    }
   },
   "outputs": [],
   "source": [
    "import pandas as pd\n",
    "import os\n",
    "\n",
    "sucursales_path = r\"C:\\Users\\itzel\\OneDrive\\Escritorio\\db\\data\\raw\\sucursales.csv\"\n",
    "ventas_path = r\"C:\\Users\\itzel\\OneDrive\\Escritorio\\db\\data\\raw\\ventas.csv\"\n",
    "\n",
    "print(\"Verificando archivos:\")\n",
    "print(\"sucursales.csv existe:\", os.path.exists(sucursales_path))\n",
    "print(\"ventas.csv existe:\", os.path.exists(ventas_path))\n",
    "\n",
    "if os.path.exists(sucursales_path) and os.path.exists(ventas_path):\n",
    "    sucursales = pd.read_csv(sucursales_path)\n",
    "    ventas = pd.read_csv(ventas_path)\n",
    "    print(\"\\n¡Datos cargados correctamente!\")\n",
    "    print(f\"Sucursales: {sucursales.shape}\")\n",
    "    print(f\"Ventas: {ventas.shape}\")\n",
    "else:\n",
    "    print(\"\\nERROR: Archivos no encontrados\")\n",
    "    print(\"Verifica que ambos archivos existan en:\")\n",
    "    print(sucursales_path)\n",
    "    print(ventas_path)\n"
   ]
  },
  {
   "cell_type": "code",
   "execution_count": null,
   "id": "a9a0badc",
   "metadata": {
    "vscode": {
     "languageId": "plaintext"
    }
   },
   "outputs": [],
   "source": [
    "ventas['Fecha'] = pd.to_datetime(ventas['Fecha'], errors='coerce')\n",
    "ventas_clean = ventas.dropna(subset=['ID_Sucursal', 'Monto'])"
   ]
  },
  {
   "cell_type": "code",
   "execution_count": null,
   "id": "99f224e2",
   "metadata": {
    "vscode": {
     "languageId": "plaintext"
    }
   },
   "outputs": [],
   "source": [
    "ventas_enriquecidas = pd.merge(\n",
    "    ventas_clean,\n",
    "    sucursales,\n",
    "    on='ID_Sucursal',\n",
    "    how='left'\n",
    ")\n",
    "\n",
    "ventas_enriquecidas['Año'] = ventas_enriquecidas['Fecha'].dt.year\n",
    "ventas_enriquecidas['Mes'] = ventas_enriquecidas['Fecha'].dt.month"
   ]
  },
  {
   "cell_type": "code",
   "execution_count": null,
   "id": "9638397f",
   "metadata": {
    "vscode": {
     "languageId": "plaintext"
    }
   },
   "outputs": [],
   "source": [
    "ventas_por_sucursal = ventas_enriquecidas.groupby(['ID_Sucursal', 'Nombre', 'Ubicacion', 'Tipo']).agg(\n",
    "    Ventas_Totales=('Monto', 'sum'),\n",
    "    Promedio_Venta=('Monto', 'mean'),\n",
    "    Transacciones_Totales=('ID_Venta', 'count'),\n",
    "    Productos_Vendidos=('Cantidad', 'sum')\n",
    ").reset_index()"
   ]
  },
  {
   "cell_type": "code",
   "execution_count": null,
   "id": "ebfc1c37",
   "metadata": {
    "vscode": {
     "languageId": "plaintext"
    }
   },
   "outputs": [],
   "source": [
    "import os\n",
    "from pathlib import Path\n",
    "\n",
    "processed_dir = r\"C:\\Users\\itzel\\OneDrive\\Escritorio\\db\\data\\processed\"\n",
    "\n",
    "os.makedirs(processed_dir, exist_ok=True)\n",
    "\n",
    "ventas_enriquecidas.to_csv(f\"{processed_dir}\\\\ventas_sucursal_enriquecido.csv\", index=False)\n",
    "ventas_por_sucursal.to_csv(f\"{processed_dir}\\\\ventas_por_sucursal.csv\", index=False)\n",
    "\n",
    "print(\"Archivos guardados correctamente en:\", processed_dir)\n"
   ]
  },
  {
   "cell_type": "code",
   "execution_count": null,
   "id": "a9a68de9",
   "metadata": {
    "vscode": {
     "languageId": "plaintext"
    }
   },
   "outputs": [],
   "source": [
    "import os\n",
    "import matplotlib.pyplot as plt\n",
    "\n",
    "output_dir = r\"C:\\Users\\itzel\\OneDrive\\Escritorio\\db\\data\\processed\"\n",
    "os.makedirs(output_dir, exist_ok=True)  \n",
    "\n",
    "ventas_por_sucursal.plot.scatter(\n",
    "    x='Ventas_Totales', \n",
    "    y='Transacciones_Totales',\n",
    "    title='Relación Ventas vs. Transacciones'\n",
    ")\n",
    "\n",
    "plt.savefig(os.path.join(output_dir, \"scatter_ventas_transacciones.png\"))\n",
    "plt.show()\n",
    "\n",
    "print(\" Gráfica guardada correctamente en:\", output_dir)\n"
   ]
  }
 ],
 "metadata": {
  "language_info": {
   "name": "python"
  }
 },
 "nbformat": 4,
 "nbformat_minor": 5
}
